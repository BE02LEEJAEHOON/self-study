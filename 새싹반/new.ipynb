{
 "cells": [
  {
   "cell_type": "code",
   "execution_count": 7,
   "metadata": {},
   "outputs": [
    {
     "name": "stdout",
     "output_type": "stream",
     "text": [
      "거스름돈은 20000원 입니다\n"
     ]
    }
   ],
   "source": [
    "# /* 문제 출제\n",
    "#  *\n",
    "#  *   💵 거스름돈 계산하기\n",
    "#  * - 3000원 짜리 배추를 사려고 한다!\n",
    "#  * - n개의 배추를 살 때 w원을 낸 경우 거스름 돈을 계산해주세요.\n",
    "#  * - 단, 배추값보다 돈을 덜 내지 않는다.\n",
    "# n = 배추갯수\n",
    "# w = 내가낸돈\n",
    "# x = 거스름돈\n",
    "\n",
    "def sol(n, w):\n",
    "    x = w - 3000*n\n",
    "    return x\n",
    "\n",
    "print(f'거스름돈은 {sol(10, 50000)}원 입니다')\n",
    "\n"
   ]
  },
  {
   "cell_type": "code",
   "execution_count": null,
   "metadata": {},
   "outputs": [],
   "source": [
    "def compare_age(age1:int, age2:int) -> bool:\n",
    "    if age1 == age2:\n",
    "        return True\n",
    "    else:\n",
    "        return False"
   ]
  }
 ],
 "metadata": {
  "kernelspec": {
   "display_name": "Python 3",
   "language": "python",
   "name": "python3"
  },
  "language_info": {
   "codemirror_mode": {
    "name": "ipython",
    "version": 3
   },
   "file_extension": ".py",
   "mimetype": "text/x-python",
   "name": "python",
   "nbconvert_exporter": "python",
   "pygments_lexer": "ipython3",
   "version": "3.12.1"
  }
 },
 "nbformat": 4,
 "nbformat_minor": 2
}
